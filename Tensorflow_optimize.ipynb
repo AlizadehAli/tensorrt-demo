{
 "cells": [
  {
   "cell_type": "code",
   "execution_count": 1,
   "metadata": {},
   "outputs": [],
   "source": [
    "import os\n",
    "\n",
    "import tensorflow as tf\n",
    "import tensorflow.contrib.tensorrt as trt\n",
    "from tensorflow.python.framework import graph_io"
   ]
  },
  {
   "cell_type": "markdown",
   "metadata": {},
   "source": [
    "## Settings"
   ]
  },
  {
   "cell_type": "code",
   "execution_count": 2,
   "metadata": {},
   "outputs": [],
   "source": [
    "FROZEN_GDEF_PATH = 'data/frozen.pb' # ADJUST\n",
    "TRT_GDEF_PATH = 'data/frozen_trt.pb' # ADJUST\n",
    "OUTPUT_NODE = 'net/fc8/BiasAdd' # ADJUST\n",
    "MAX_BATCH_SIZE = 1 # ADJUST\n",
    "MAX_WORKSPACE = 1 << 32 # ADJUST\n",
    "DATA_TYPE = 'FP16' # ADJUST # 'FP16' | 'FP32'"
   ]
  },
  {
   "cell_type": "markdown",
   "metadata": {},
   "source": [
    "## Load frozen TF graph"
   ]
  },
  {
   "cell_type": "code",
   "execution_count": 3,
   "metadata": {},
   "outputs": [],
   "source": [
    "graphdef_frozen = tf.GraphDef()\n",
    "with tf.gfile.GFile(FROZEN_GDEF_PATH, \"rb\") as f:\n",
    "    graphdef_frozen.ParseFromString(f.read())"
   ]
  },
  {
   "cell_type": "markdown",
   "metadata": {},
   "source": [
    "## Build new graph with optimized TensorRT nodes"
   ]
  },
  {
   "cell_type": "code",
   "execution_count": 4,
   "metadata": {},
   "outputs": [
    {
     "name": "stdout",
     "output_type": "stream",
     "text": [
      "INFO:tensorflow:Running against TensorRT version 5.0.0\n"
     ]
    }
   ],
   "source": [
    "graphdef_trt = trt.create_inference_graph(\n",
    "    input_graph_def=graphdef_frozen,\n",
    "    outputs=[OUTPUT_NODE],\n",
    "    max_batch_size=MAX_BATCH_SIZE,\n",
    "    max_workspace_size_bytes=MAX_WORKSPACE,\n",
    "    precision_mode=DATA_TYPE)"
   ]
  },
  {
   "cell_type": "markdown",
   "metadata": {},
   "source": [
    "## Save new TensorRT graph"
   ]
  },
  {
   "cell_type": "code",
   "execution_count": 5,
   "metadata": {},
   "outputs": [
    {
     "data": {
      "text/plain": [
       "'./data/frozen_trt.pb'"
      ]
     },
     "execution_count": 5,
     "metadata": {},
     "output_type": "execute_result"
    }
   ],
   "source": [
    "os.makedirs(os.path.dirname(TRT_GDEF_PATH), exist_ok=True)\n",
    "graph_io.write_graph(graphdef_trt, './', TRT_GDEF_PATH, as_text=False)"
   ]
  },
  {
   "cell_type": "markdown",
   "metadata": {},
   "source": [
    "## List new graph nodes"
   ]
  },
  {
   "cell_type": "code",
   "execution_count": 6,
   "metadata": {},
   "outputs": [
    {
     "data": {
      "text/plain": [
       "['net/input',\n",
       " 'net/Sub/y',\n",
       " 'net/Reshape/shape',\n",
       " 'net/fc8/biases',\n",
       " 'PermConstNHWCToNCHW-LayoutOptimizer',\n",
       " 'PermConstNCHWToNHWC-LayoutOptimizer',\n",
       " 'net/Sub',\n",
       " 'net/conv1_1/Conv2D-0-TransposeNHWCToNCHW-LayoutOptimizer',\n",
       " 'net/pool5/MaxPool-0-0-TransposeNCHWToNHWC-LayoutOptimizer',\n",
       " 'net/Reshape',\n",
       " 'net/fc8/BiasAdd',\n",
       " 'net/my_trt_op_0',\n",
       " 'net/my_trt_op_1']"
      ]
     },
     "execution_count": 6,
     "metadata": {},
     "output_type": "execute_result"
    }
   ],
   "source": [
    "[x.name for x in graphdef_trt.node]"
   ]
  },
  {
   "cell_type": "markdown",
   "metadata": {},
   "source": [
    "## Export new graph for visualization in Tensorboard"
   ]
  },
  {
   "cell_type": "code",
   "execution_count": 7,
   "metadata": {},
   "outputs": [],
   "source": [
    "graph_trt = tf.Graph()\n",
    "with graph_trt.as_default():\n",
    "    tf.import_graph_def(graphdef_trt)\n",
    "_=tf.summary.FileWriter('data/checkpoints/vggA_BN_frozen_trt/', graph_trt)"
   ]
  },
  {
   "cell_type": "code",
   "execution_count": null,
   "metadata": {},
   "outputs": [],
   "source": []
  }
 ],
 "metadata": {
  "kernelspec": {
   "display_name": "Python 3",
   "language": "python",
   "name": "python3"
  },
  "language_info": {
   "codemirror_mode": {
    "name": "ipython",
    "version": 3
   },
   "file_extension": ".py",
   "mimetype": "text/x-python",
   "name": "python",
   "nbconvert_exporter": "python",
   "pygments_lexer": "ipython3",
   "version": "3.5.2"
  }
 },
 "nbformat": 4,
 "nbformat_minor": 2
}
